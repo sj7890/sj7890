{
 "cells": [
  {
   "cell_type": "markdown",
   "id": "715eff02",
   "metadata": {},
   "source": [
    "Write a program to create a function that can accept two variables and calculate addition, subtraction, multiplication, division and modulus for given two numbers. Use return statement and values should be inputted through keyboard."
   ]
  },
  {
   "cell_type": "code",
   "execution_count": 45,
   "id": "02d5fe30",
   "metadata": {},
   "outputs": [],
   "source": [
    "#python program for create the function of two numbers  and calculated addition,subtraction,division,modulus\n",
    "#take the input from user \n",
    "num1="
   ]
  },
  {
   "cell_type": "code",
   "execution_count": null,
   "id": "eaa9d696",
   "metadata": {},
   "outputs": [],
   "source": []
  },
  {
   "cell_type": "code",
   "execution_count": null,
   "id": "64349095",
   "metadata": {},
   "outputs": [],
   "source": []
  }
 ],
 "metadata": {
  "kernelspec": {
   "display_name": "Python 3 (ipykernel)",
   "language": "python",
   "name": "python3"
  },
  "language_info": {
   "codemirror_mode": {
    "name": "ipython",
    "version": 3
   },
   "file_extension": ".py",
   "mimetype": "text/x-python",
   "name": "python",
   "nbconvert_exporter": "python",
   "pygments_lexer": "ipython3",
   "version": "3.9.12"
  }
 },
 "nbformat": 4,
 "nbformat_minor": 5
}
