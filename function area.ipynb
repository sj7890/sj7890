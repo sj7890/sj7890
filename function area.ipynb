{
 "cells": [
  {
   "cell_type": "markdown",
   "id": "ee2cda93",
   "metadata": {},
   "source": [
    "Create a function to calculate the the area of triangle"
   ]
  },
  {
   "cell_type": "code",
   "execution_count": 34,
   "id": "91cbd808",
   "metadata": {},
   "outputs": [
    {
     "name": "stdout",
     "output_type": "stream",
     "text": [
      "The area of a traingle is 1201.74\n"
     ]
    }
   ],
   "source": [
    "def areaofTriangle(a,b,c):\n",
    " \n",
    "    # calculate the semi-perimeter\n",
    "    s = (a + b + c) / 2\n",
    "     \n",
    "    # calculate the area\n",
    "    area = (s * (s - a) * (s - b) * (s - c)) ** 0.5\n",
    "    print('The area of a traingle is %0.2f' %area)\n",
    " \n",
    " \n",
    "# Initialize first side of traingle\n",
    "a = 54\n",
    "# Initialize second side of traingle\n",
    "b = 65\n",
    "# Initialize third side of traingle\n",
    "c = 45\n",
    "\n",
    "areaofTriangle(a,b,c)"
   ]
  },
  {
   "cell_type": "code",
   "execution_count": 35,
   "id": "4428837f",
   "metadata": {},
   "outputs": [
    {
     "name": "stdout",
     "output_type": "stream",
     "text": [
      "The area of a traingle is 1201.74\n"
     ]
    }
   ],
   "source": [
    "def areaofTriangle(a,b,c):\n",
    " \n",
    "    # calculate the semi-perimeter\n",
    "    s = (a + b + c) / 2\n",
    "     \n",
    "    # calculate the area\n",
    "    area = (s * (s - a) * (s - b) * (s - c)) ** 0.5\n",
    "    print('The area of a traingle is %0.2f' %area)\n",
    " \n",
    " \n",
    "# Initialize first side of traingle\n",
    "a = 78\n",
    "# Initialize second side of traingle\n",
    "b = 85\n",
    "# Initialize third side of traingle\n",
    "c = 98\n",
    "\n",
    "areaofTriangle(a,b,c)"
   ]
  },
  {
   "cell_type": "code",
   "execution_count": null,
   "id": "8d805317",
   "metadata": {},
   "outputs": [],
   "source": [
    "def areaofTriangle(a,b,c):\n",
    " \n",
    "    # calculate the semi-perimeter\n",
    "    s = (a + b + c) / 2\n",
    "     \n",
    "    # calculate the area\n",
    "    area = (s * (s - a) * (s - b) * (s - c)) ** 0.5\n",
    "    print('The area of a traingle is %0.2f' %area)\n",
    " \n",
    " \n",
    "# Initialize first side of traingle\n",
    "a = 74\n",
    "# Initialize second side of traingle\n",
    "b = 68\n",
    "# Initialize third side of traingle\n",
    "c = 45\n",
    "\n",
    "areaofTriangle(a,b,c)"
   ]
  },
  {
   "cell_type": "code",
   "execution_count": null,
   "id": "eb32fb53",
   "metadata": {},
   "outputs": [],
   "source": [
    "def areaofTriangle(a,b,c):\n",
    " \n",
    "    # calculate the semi-perimeter\n",
    "    s = (a + b + c) / 2\n",
    "     \n",
    "    # calculate the area\n",
    "    area = (s * (s - a) * (s - b) * (s - c)) ** 0.5\n",
    "    print('The area of a traingle is %0.2f' %area)\n",
    " \n",
    " \n",
    "# Initialize first side of traingle\n",
    "a = 54\n",
    "# Initialize second side of traingle\n",
    "b = 65\n",
    "# Initialize third side of traingle\n",
    "c = 45\n",
    "\n",
    "areaofTriangle(a,b,c)"
   ]
  },
  {
   "cell_type": "code",
   "execution_count": null,
   "id": "0f5e6d93",
   "metadata": {},
   "outputs": [],
   "source": [
    "def areaofTriangle(a,b,c):\n",
    " \n",
    "    # calculate the semi-perimeter\n",
    "    s = (a + b + c) / 2\n",
    "     \n",
    "    # calculate the area\n",
    "    area = (s * (s - a) * (s - b) * (s - c)) ** 0.5\n",
    "    print('The area of a traingle is %0.2f' %area)\n",
    " \n",
    " \n",
    "# Initialize first side of traingle\n",
    "a = 54\n",
    "# Initialize second side of traingle\n",
    "b = 65\n",
    "# Initialize third side of traingle\n",
    "c = 45\n",
    "\n",
    "areaofTriangle(a,b,c)"
   ]
  }
 ],
 "metadata": {
  "kernelspec": {
   "display_name": "Python 3 (ipykernel)",
   "language": "python",
   "name": "python3"
  },
  "language_info": {
   "codemirror_mode": {
    "name": "ipython",
    "version": 3
   },
   "file_extension": ".py",
   "mimetype": "text/x-python",
   "name": "python",
   "nbconvert_exporter": "python",
   "pygments_lexer": "ipython3",
   "version": "3.9.12"
  }
 },
 "nbformat": 4,
 "nbformat_minor": 5
}
