{
 "cells": [
  {
   "cell_type": "markdown",
   "id": "1aa6a62c",
   "metadata": {},
   "source": [
    " Create a function to find out Cube of given number?"
   ]
  },
  {
   "cell_type": "code",
   "execution_count": 11,
   "id": "577dd904",
   "metadata": {},
   "outputs": [
    {
     "name": "stdout",
     "output_type": "stream",
     "text": [
      "Enter the number:=50\n",
      "The cube of := 125000\n"
     ]
    }
   ],
   "source": [
    "def cube(x):\n",
    "    print(\"The cube of :=\",x*x*x)\n",
    "n=int(input(\"Enter the number:=\"))\n",
    "cube(n)"
   ]
  },
  {
   "cell_type": "code",
   "execution_count": 12,
   "id": "342afd01",
   "metadata": {},
   "outputs": [
    {
     "name": "stdout",
     "output_type": "stream",
     "text": [
      "Enter the number:=60\n",
      "The cube of := 216000\n"
     ]
    }
   ],
   "source": [
    "def cube(x):\n",
    "    print(\"The cube of :=\",x*x*x)\n",
    "n=int(input(\"Enter the number:=\"))\n",
    "cube(n)"
   ]
  },
  {
   "cell_type": "code",
   "execution_count": 13,
   "id": "ffdf14f6",
   "metadata": {},
   "outputs": [
    {
     "name": "stdout",
     "output_type": "stream",
     "text": [
      "Enter the number:=90\n",
      "The cube of := 729000\n"
     ]
    }
   ],
   "source": [
    "def cube(x):\n",
    "    print(\"The cube of :=\",x*x*x)\n",
    "n=int(input(\"Enter the number:=\"))\n",
    "cube(n)"
   ]
  },
  {
   "cell_type": "code",
   "execution_count": 14,
   "id": "310d88a8",
   "metadata": {},
   "outputs": [
    {
     "name": "stdout",
     "output_type": "stream",
     "text": [
      "Enter the number:=100\n",
      "The cube of := 1000000\n"
     ]
    }
   ],
   "source": [
    "def cube(x):\n",
    "    print(\"The cube of :=\",x*x*x)\n",
    "n=int(input(\"Enter the number:=\"))\n",
    "cube(n)"
   ]
  },
  {
   "cell_type": "code",
   "execution_count": 15,
   "id": "8be960db",
   "metadata": {},
   "outputs": [
    {
     "name": "stdout",
     "output_type": "stream",
     "text": [
      "Enter the number:=75\n",
      "The cube of := 421875\n"
     ]
    }
   ],
   "source": [
    "def cube(x):\n",
    "    print(\"The cube of :=\",x*x*x)\n",
    "n=int(input(\"Enter the number:=\"))\n",
    "cube(n)"
   ]
  },
  {
   "cell_type": "code",
   "execution_count": 16,
   "id": "f353864d",
   "metadata": {},
   "outputs": [
    {
     "name": "stdout",
     "output_type": "stream",
     "text": [
      "Enter the number:=98\n",
      "The cube of := 941192\n"
     ]
    }
   ],
   "source": [
    "def cube(x):\n",
    "    print(\"The cube of :=\",x*x*x)\n",
    "n=int(input(\"Enter the number:=\"))\n",
    "cube(n)"
   ]
  },
  {
   "cell_type": "code",
   "execution_count": null,
   "id": "1d99619d",
   "metadata": {},
   "outputs": [],
   "source": []
  }
 ],
 "metadata": {
  "kernelspec": {
   "display_name": "Python 3 (ipykernel)",
   "language": "python",
   "name": "python3"
  },
  "language_info": {
   "codemirror_mode": {
    "name": "ipython",
    "version": 3
   },
   "file_extension": ".py",
   "mimetype": "text/x-python",
   "name": "python",
   "nbconvert_exporter": "python",
   "pygments_lexer": "ipython3",
   "version": "3.9.12"
  }
 },
 "nbformat": 4,
 "nbformat_minor": 5
}
