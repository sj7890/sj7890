{
 "cells": [
  {
   "cell_type": "markdown",
   "id": "1a911ffe",
   "metadata": {},
   "source": [
    "# Write program to accept employee details from user and print the same\n",
    "e.g(id, name, Salary)."
   ]
  },
  {
   "cell_type": "code",
   "execution_count": 29,
   "id": "23f52452",
   "metadata": {},
   "outputs": [
    {
     "ename": "IndentationError",
     "evalue": "unexpected indent (2342364561.py, line 7)",
     "output_type": "error",
     "traceback": [
      "\u001b[1;36m  Input \u001b[1;32mIn [29]\u001b[1;36m\u001b[0m\n\u001b[1;33m    if choice != \"y\"\u001b[0m\n\u001b[1;37m    ^\u001b[0m\n\u001b[1;31mIndentationError\u001b[0m\u001b[1;31m:\u001b[0m unexpected indent\n"
     ]
    }
   ],
   "source": [
    "emp_dec= { }\n",
    "while True:\n",
    "    name=input(\"Enter the employer name:=\")\n",
    "    sal=int(input(\"Enter the employer salary\"))\n",
    "    emp_dic[name]= sal\n",
    "    choice = input(\"Do you want to enter the another record  then press 'y' if :=\")\n",
    "     if choice != \"y\" \n",
    "            break\n",
    "print(emp_dec)"
   ]
  },
  {
   "cell_type": "code",
   "execution_count": null,
   "id": "f22d1503",
   "metadata": {},
   "outputs": [],
   "source": []
  },
  {
   "cell_type": "code",
   "execution_count": null,
   "id": "249cac19",
   "metadata": {},
   "outputs": [],
   "source": []
  }
 ],
 "metadata": {
  "kernelspec": {
   "display_name": "Python 3 (ipykernel)",
   "language": "python",
   "name": "python3"
  },
  "language_info": {
   "codemirror_mode": {
    "name": "ipython",
    "version": 3
   },
   "file_extension": ".py",
   "mimetype": "text/x-python",
   "name": "python",
   "nbconvert_exporter": "python",
   "pygments_lexer": "ipython3",
   "version": "3.9.12"
  }
 },
 "nbformat": 4,
 "nbformat_minor": 5
}
