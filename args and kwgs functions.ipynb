{
 "cells": [
  {
   "cell_type": "markdown",
   "id": "bc7fdf73",
   "metadata": {},
   "source": [
    "Explain *args and **kwrgs with example"
   ]
  },
  {
   "cell_type": "markdown",
   "id": "c9252efd",
   "metadata": {},
   "source": [
    "arguments in python:\n",
    "*the aruments is the information which passed as a function in arguments\n",
    "*The arguments are specified after the function which which written inside the parenthesis we can write as amny arguments but we want to separate them from comma(,)\n",
    "the following example is about to print the first name which we will define the function as any class the after we call the function of that class and print out all first name"
   ]
  },
  {
   "cell_type": "code",
   "execution_count": 24,
   "id": "70f74162",
   "metadata": {},
   "outputs": [
    {
     "name": "stdout",
     "output_type": "stream",
     "text": [
      "Shubham jadhav\n",
      "Omkar jadhav\n",
      "Vijay jadhav\n",
      "Akshay jadhav\n",
      "Chetna jadhav\n"
     ]
    }
   ],
   "source": [
    "#exp 1:to print the first name\n",
    "def my_name(fname):\n",
    "    print(fname + \" jadhav\", )\n",
    "\n",
    "my_name(\"Shubham\")\n",
    "my_name(\"Omkar\")\n",
    "my_name(\"Vijay\")\n",
    "my_name(\"Akshay\")\n",
    "my_name(\"Chetna\")"
   ]
  },
  {
   "cell_type": "code",
   "execution_count": 36,
   "id": "54e6c4cb",
   "metadata": {},
   "outputs": [
    {
     "name": "stdout",
     "output_type": "stream",
     "text": [
      "shubham  jadhav\n",
      "vijay  bhaskar\n",
      "akash  kaskar\n",
      "lokesh  ajkar\n",
      "jayant  belekar\n"
     ]
    }
   ],
   "source": [
    "def my_name(fname,lname):\n",
    "    print(fname + \" \", lname )\n",
    "    \n",
    "my_name(\"shubham\",\"jadhav\")\n",
    "my_name(\"vijay\",\"bhaskar\")\n",
    "my_name(\"akash\",\"kaskar\")\n",
    "my_name(\"lokesh\",\"ajkar\")\n",
    "my_name(\"jayant\",\"belekar\")\n",
    "    \n",
    "    "
   ]
  },
  {
   "cell_type": "code",
   "execution_count": null,
   "id": "85b0a595",
   "metadata": {},
   "outputs": [],
   "source": []
  }
 ],
 "metadata": {
  "kernelspec": {
   "display_name": "Python 3 (ipykernel)",
   "language": "python",
   "name": "python3"
  },
  "language_info": {
   "codemirror_mode": {
    "name": "ipython",
    "version": 3
   },
   "file_extension": ".py",
   "mimetype": "text/x-python",
   "name": "python",
   "nbconvert_exporter": "python",
   "pygments_lexer": "ipython3",
   "version": "3.9.12"
  }
 },
 "nbformat": 4,
 "nbformat_minor": 5
}
